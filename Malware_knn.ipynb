{
  "nbformat": 4,
  "nbformat_minor": 0,
  "metadata": {
    "colab": {
      "provenance": [],
      "authorship_tag": "ABX9TyNpBGpfkoCY6ILlMpsqNn3y",
      "include_colab_link": true
    },
    "kernelspec": {
      "name": "python3",
      "display_name": "Python 3"
    },
    "language_info": {
      "name": "python"
    }
  },
  "cells": [
    {
      "cell_type": "markdown",
      "metadata": {
        "id": "view-in-github",
        "colab_type": "text"
      },
      "source": [
        "<a href=\"https://colab.research.google.com/github/tahsin599/MachineLearning/blob/main/Malware_knn.ipynb\" target=\"_parent\"><img src=\"https://colab.research.google.com/assets/colab-badge.svg\" alt=\"Open In Colab\"/></a>"
      ]
    },
    {
      "cell_type": "code",
      "execution_count": 1,
      "metadata": {
        "id": "yObDN6IqVI8c"
      },
      "outputs": [],
      "source": [
        "import numpy as np\n",
        "import pandas as pd\n",
        "import os\n",
        "from os.path import join\n",
        "from sklearn.model_selection import train_test_split\n",
        "from sklearn.neighbors import KNeighborsClassifier\n",
        "from sklearn.metrics import classification_report\n",
        "from imblearn.over_sampling import SMOTE, RandomOverSampler\n",
        "\n",
        "def apply_balancing(X, y):\n",
        "    ros = RandomOverSampler(random_state=42)\n",
        "    return ros.fit_resample(X, y)\n",
        "\n",
        "def load_npz(path_npz='mh100_chi_s_500.npz', output_file='head_output.txt', knn_report_file='knn_report.txt'):\n",
        "    # Load the dataset\n",
        "    loaded = np.load(path_npz, allow_pickle=True)\n",
        "    features = loaded['features']\n",
        "    sha256 = loaded['sha256']\n",
        "    pacote = loaded['pacote']\n",
        "    labels = loaded['label']\n",
        "    columns_names = loaded['column_names']\n",
        "\n",
        "    feature_names = columns_names[2:-1]  # Exclude SHA256, PACOTE, and label\n",
        "    df = pd.DataFrame(features, columns=feature_names)\n",
        "    df.insert(0, 'SHA256', sha256)\n",
        "    df.insert(1, 'PACOTE', pacote)\n",
        "    df['label'] = labels\n",
        "\n",
        "    # Save preview\n",
        "    with open(output_file, 'w') as f:\n",
        "        f.write(df.head().to_string(index=False))\n",
        "\n",
        "    # Prepare features (X) and labels (y)\n",
        "    X = df[feature_names].astype(np.uint8).values\n",
        "    y = df['label'].astype(np.uint8)\n",
        "\n",
        "    # Train-test split\n",
        "    X_train, X_test, y_train, y_test = train_test_split(X, y, stratify=y, test_size=0.2, random_state=42)\n",
        "\n",
        "    # Apply SMOTE to training data only\n",
        "    X_train_res, y_train_res = apply_balancing(X_train, y_train)\n",
        "\n",
        "    # Train KNN\n",
        "    knn = KNeighborsClassifier(n_neighbors=10)\n",
        "    knn.fit(X_train_res, y_train_res)\n",
        "    y_pred = knn.predict(X_test)\n",
        "\n",
        "    # Write classification report\n",
        "    report = classification_report(y_test, y_pred)\n",
        "    with open(knn_report_file, 'w') as f:\n",
        "        f.write(\"KNN Classification Report\\n\")\n",
        "        f.write(report)\n",
        "\n",
        "# Call the function\n",
        "load_npz()\n"
      ]
    }
  ]
}