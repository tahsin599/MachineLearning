{
  "nbformat": 4,
  "nbformat_minor": 0,
  "metadata": {
    "colab": {
      "provenance": [],
      "gpuType": "T4",
      "authorship_tag": "ABX9TyMU3VgxkITSqCJSZgrR6HGT",
      "include_colab_link": true
    },
    "kernelspec": {
      "name": "python3",
      "display_name": "Python 3"
    },
    "language_info": {
      "name": "python"
    },
    "accelerator": "GPU"
  },
  "cells": [
    {
      "cell_type": "markdown",
      "metadata": {
        "id": "view-in-github",
        "colab_type": "text"
      },
      "source": [
        "<a href=\"https://colab.research.google.com/github/tahsin599/MachineLearning/blob/main/malware_random_forest.ipynb\" target=\"_parent\"><img src=\"https://colab.research.google.com/assets/colab-badge.svg\" alt=\"Open In Colab\"/></a>"
      ]
    },
    {
      "cell_type": "code",
      "execution_count": 2,
      "metadata": {
        "id": "c5I-nP8q_MLn"
      },
      "outputs": [],
      "source": [
        "import numpy as np\n",
        "import pandas as pd\n",
        "import os\n",
        "from os.path import join\n",
        "from sklearn.model_selection import train_test_split\n",
        "from sklearn.neighbors import KNeighborsClassifier\n",
        "\n",
        "from sklearn.svm import SVC\n",
        "\n",
        "from sklearn.metrics import classification_report\n",
        "from imblearn.over_sampling import SMOTE, RandomOverSampler\n",
        "from sklearn.ensemble import RandomForestClassifier\n",
        "\n",
        "def apply_balancing(X, y):\n",
        "    ros = RandomOverSampler(random_state=42)\n",
        "    return ros.fit_resample(X, y)\n",
        "\n",
        "def load_npz(path_npz='mh100_mic_500.npz', output_file='head_output.txt', rf_report_file='RandomForest_report.txt'):\n",
        "    # Load the dataset\n",
        "    loaded = np.load(path_npz, allow_pickle=True)\n",
        "    features = loaded['features']\n",
        "    sha256 = loaded['sha256']\n",
        "    pacote = loaded['pacote']\n",
        "    labels = loaded['label']\n",
        "    columns_names = loaded['column_names']\n",
        "\n",
        "    feature_names = columns_names[2:-1]  # Exclude SHA256, PACOTE, and label\n",
        "    df = pd.DataFrame(features, columns=feature_names)\n",
        "    df.insert(0, 'SHA256', sha256)\n",
        "    df.insert(1, 'PACOTE', pacote)\n",
        "    df['label'] = labels\n",
        "\n",
        "    # Save preview\n",
        "    with open(output_file, 'w') as f:\n",
        "        f.write(df.head().to_string(index=False))\n",
        "\n",
        "    # Prepare features (X) and labels (y)\n",
        "    X = df[feature_names].astype(np.uint8).values\n",
        "    y = df['label'].astype(np.uint8)\n",
        "\n",
        "\n",
        "    X_train, X_test, y_train, y_test = train_test_split(X, y, stratify=y, test_size=0.2, random_state=42)\n",
        "\n",
        "\n",
        "    X_train_res, y_train_res = apply_balancing(X_train, y_train)\n",
        "\n",
        "\n",
        "    rf = RandomForestClassifier(n_estimators=200, max_depth=10, class_weight='balanced', random_state=42)\n",
        "    rf.fit(X_train_res, y_train_res)\n",
        "    y_pred = rf.predict(X_test)\n",
        "\n",
        "    # Write classification report\n",
        "    report = classification_report(y_test, y_pred)\n",
        "    with open(rf_report_file, 'w') as f:\n",
        "        f.write(\"Random Forest Classification Report\\n\")\n",
        "        f.write(report)\n",
        "\n",
        "# Call the function\n",
        "load_npz()\n",
        "\n"
      ]
    }
  ]
}